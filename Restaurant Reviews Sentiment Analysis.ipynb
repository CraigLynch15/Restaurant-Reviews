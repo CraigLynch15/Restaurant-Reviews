{
 "cells": [
  {
   "cell_type": "code",
   "execution_count": 2,
   "id": "a29810e8",
   "metadata": {},
   "outputs": [],
   "source": [
    "import pandas as pd\n",
    "import numpy as np"
   ]
  },
  {
   "cell_type": "code",
   "execution_count": 106,
   "id": "2704d4e2",
   "metadata": {},
   "outputs": [
    {
     "data": {
      "text/html": [
       "<div>\n",
       "<style scoped>\n",
       "    .dataframe tbody tr th:only-of-type {\n",
       "        vertical-align: middle;\n",
       "    }\n",
       "\n",
       "    .dataframe tbody tr th {\n",
       "        vertical-align: top;\n",
       "    }\n",
       "\n",
       "    .dataframe thead th {\n",
       "        text-align: right;\n",
       "    }\n",
       "</style>\n",
       "<table border=\"1\" class=\"dataframe\">\n",
       "  <thead>\n",
       "    <tr style=\"text-align: right;\">\n",
       "      <th></th>\n",
       "      <th>Review</th>\n",
       "      <th>Liked</th>\n",
       "    </tr>\n",
       "  </thead>\n",
       "  <tbody>\n",
       "    <tr>\n",
       "      <th>0</th>\n",
       "      <td>Wow... Loved this place.</td>\n",
       "      <td>1</td>\n",
       "    </tr>\n",
       "    <tr>\n",
       "      <th>1</th>\n",
       "      <td>Crust is not good.</td>\n",
       "      <td>0</td>\n",
       "    </tr>\n",
       "    <tr>\n",
       "      <th>2</th>\n",
       "      <td>Not tasty and the texture was just nasty.</td>\n",
       "      <td>0</td>\n",
       "    </tr>\n",
       "    <tr>\n",
       "      <th>3</th>\n",
       "      <td>Stopped by during the late May bank holiday of...</td>\n",
       "      <td>1</td>\n",
       "    </tr>\n",
       "    <tr>\n",
       "      <th>4</th>\n",
       "      <td>The selection on the menu was great and so wer...</td>\n",
       "      <td>1</td>\n",
       "    </tr>\n",
       "  </tbody>\n",
       "</table>\n",
       "</div>"
      ],
      "text/plain": [
       "                                              Review  Liked\n",
       "0                           Wow... Loved this place.      1\n",
       "1                                 Crust is not good.      0\n",
       "2          Not tasty and the texture was just nasty.      0\n",
       "3  Stopped by during the late May bank holiday of...      1\n",
       "4  The selection on the menu was great and so wer...      1"
      ]
     },
     "execution_count": 106,
     "metadata": {},
     "output_type": "execute_result"
    }
   ],
   "source": [
    "df = pd.read_csv('/Users/craiglynch/Desktop/Data_Science_Review/Restaurant Reviews NLP/Restaurant_Reviews.tsv', delimiter = '\\t', quoting = 3)\n",
    "df.head()"
   ]
  },
  {
   "cell_type": "markdown",
   "id": "8dd48801",
   "metadata": {},
   "source": [
    "# Preprocessing Data"
   ]
  },
  {
   "cell_type": "code",
   "execution_count": 107,
   "id": "8cd4bae5",
   "metadata": {},
   "outputs": [
    {
     "name": "stderr",
     "output_type": "stream",
     "text": [
      "[nltk_data] Downloading package stopwords to\n",
      "[nltk_data]     /Users/craiglynch/nltk_data...\n",
      "[nltk_data]   Package stopwords is already up-to-date!\n"
     ]
    }
   ],
   "source": [
    "import re\n",
    "import nltk\n",
    "nltk.download('stopwords')\n",
    "from nltk.corpus import stopwords\n",
    "stop = stopwords.words('english')\n",
    "from nltk.stem.porter import PorterStemmer"
   ]
  },
  {
   "cell_type": "code",
   "execution_count": 108,
   "id": "08f07af2",
   "metadata": {},
   "outputs": [],
   "source": [
    "# Remove Punctuation\n",
    "import string\n",
    "def remove_punctuations(text):\n",
    "    for punctuation in string.punctuation:\n",
    "        text = text.replace(punctuation, '')\n",
    "    return text\n",
    "df['Review'] = df['Review'].apply(remove_punctuations)\n",
    "\n",
    "# Lowercase\n",
    "df['Review'] = df['Review'].str.lower()\n",
    "\n",
    "# Split to Array\n",
    "#review = review.str.split()\n",
    "\n",
    "# Stem words\n",
    "ps = PorterStemmer()\n",
    "df['Review'] = [ps.stem(word) for word in df['Review'] if not word in stop]\n",
    "\n",
    "# Drop stop words\n",
    "df['Review_without_stopwords'] = df['Review'].apply(lambda x: ' '.join([word for word in x.split() if word not in (stop)]))\n",
    "\n",
    "\n",
    "# # Rejoin array elements back into a string\n",
    "# review = ' '.join(review)\n",
    "\n",
    "# # Append string to create array of cleaned text\n",
    "# vocab.append(review)"
   ]
  },
  {
   "cell_type": "code",
   "execution_count": 109,
   "id": "916dbaaa",
   "metadata": {},
   "outputs": [],
   "source": [
    "review = df['Review_without_stopwords'].tolist()"
   ]
  },
  {
   "cell_type": "code",
   "execution_count": 110,
   "id": "06907850",
   "metadata": {},
   "outputs": [],
   "source": [
    "# Creating the Bag of Words model\n",
    "\n",
    "from sklearn.feature_extraction.text import CountVectorizer\n",
    "\n",
    "# Extract max 1000 features (can adjust this during further iterations to see how it affects)\n",
    "cv = CountVectorizer(max_features = 1000)\n",
    "# Vocab List\n",
    "X = cv.fit_transform(review).toarray()\n",
    "# Is the review positive or negative\n",
    "y = df.iloc[:, 1].values\n"
   ]
  },
  {
   "cell_type": "code",
   "execution_count": 111,
   "id": "8e340726",
   "metadata": {},
   "outputs": [
    {
     "name": "stdout",
     "output_type": "stream",
     "text": [
      "(1000, 1000)\n",
      "(1000,)\n"
     ]
    }
   ],
   "source": [
    "print(X.shape)\n",
    "print(y.shape)"
   ]
  },
  {
   "cell_type": "markdown",
   "id": "0b4be537",
   "metadata": {},
   "source": [
    "# Splitting Data into Train/Test"
   ]
  },
  {
   "cell_type": "code",
   "execution_count": 113,
   "id": "72f76dc6",
   "metadata": {},
   "outputs": [],
   "source": [
    "from sklearn.model_selection import train_test_split\n",
    "X_train, X_test, y_train, y_test = train_test_split(X, y, test_size = 0.25, random_state = 15)"
   ]
  },
  {
   "cell_type": "code",
   "execution_count": 117,
   "id": "1bf07e9f",
   "metadata": {},
   "outputs": [
    {
     "name": "stdout",
     "output_type": "stream",
     "text": [
      "[[ 92  25]\n",
      " [ 31 102]]\n",
      "\n",
      "\n",
      "Accuracy is  77.6 %\n",
      "Precision is  0.8\n",
      "Recall is  0.77\n"
     ]
    }
   ],
   "source": [
    "# Multinomial Naive Bayes\n",
    "\n",
    "from sklearn.naive_bayes import MultinomialNB\n",
    "classifier = MultinomialNB(alpha=0.1)\n",
    "classifier.fit(X_train, y_train)\n",
    "\n",
    "y_pred = classifier.predict(X_test)\n",
    "\n",
    "# Confusion Matrix\n",
    "from sklearn.metrics import confusion_matrix\n",
    "cm = confusion_matrix(y_test, y_pred)\n",
    "print(cm)\n",
    "\n",
    "from sklearn.metrics import accuracy_score\n",
    "from sklearn.metrics import precision_score\n",
    "from sklearn.metrics import recall_score\n",
    "accuracy = accuracy_score(y_test,y_pred)\n",
    "precision = precision_score(y_test,y_pred)\n",
    "recall= recall_score(y_test,y_pred)\n",
    "print(\"\\n\")\n",
    "print(\"Accuracy is \",round(accuracy*100,2),\"%\")\n",
    "print(\"Precision is \",round(precision,2))\n",
    "print(\"Recall is \",round(recall,2))"
   ]
  },
  {
   "cell_type": "code",
   "execution_count": 124,
   "id": "78f839d8",
   "metadata": {},
   "outputs": [
    {
     "name": "stdout",
     "output_type": "stream",
     "text": [
      "[[100  17]\n",
      " [ 37  96]]\n",
      "\n",
      "\n",
      "Accuracy is  78.4 %\n",
      "Precision is  0.85\n",
      "Recall is  0.72\n"
     ]
    }
   ],
   "source": [
    "# Logistic Regression\n",
    "\n",
    "from sklearn import linear_model\n",
    "linear = linear_model.LogisticRegression(C=3)\n",
    "linear.fit(X_train, y_train)\n",
    "\n",
    "y_pred = linear.predict(X_test)\n",
    "\n",
    "# Confusion Matrix\n",
    "from sklearn.metrics import confusion_matrix\n",
    "cm = confusion_matrix(y_test, y_pred)\n",
    "print(cm)\n",
    "\n",
    "# Accuracy, Precision and Recall\n",
    "accuracy = accuracy_score(y_test,y_pred)\n",
    "precision = precision_score(y_test,y_pred)\n",
    "recall= recall_score(y_test,y_pred)\n",
    "print(\"\\n\")\n",
    "print(\"Accuracy is \",round(accuracy*100,2),\"%\")\n",
    "print(\"Precision is \",round(precision,2))\n",
    "print(\"Recall is \",round(recall,2))"
   ]
  },
  {
   "cell_type": "code",
   "execution_count": 126,
   "id": "8baf0f05",
   "metadata": {},
   "outputs": [
    {
     "name": "stdout",
     "output_type": "stream",
     "text": [
      "[[96 21]\n",
      " [49 84]]\n",
      "\n",
      "\n",
      "Accuracy is  72.0 %\n",
      "Precision is  0.8\n",
      "Recall is  0.63\n"
     ]
    }
   ],
   "source": [
    "# Random Forest\n",
    "\n",
    "from sklearn.ensemble import RandomForestClassifier\n",
    " \n",
    "model = RandomForestClassifier(n_estimators = 501, criterion = 'entropy')                           \n",
    "model.fit(X_train, y_train)\n",
    "\n",
    "y_pred = model.predict(X_test)\n",
    "\n",
    "# Confusion Matrix\n",
    "from sklearn.metrics import confusion_matrix\n",
    "cm = confusion_matrix(y_test, y_pred)\n",
    "print(cm)\n",
    "\n",
    "# Accuracy, Precision and Recall\n",
    "accuracy = accuracy_score(y_test,y_pred)\n",
    "precision = precision_score(y_test,y_pred)\n",
    "recall= recall_score(y_test,y_pred)\n",
    "print(\"\\n\")\n",
    "print(\"Accuracy is \",round(accuracy*100,2),\"%\")\n",
    "print(\"Precision is \",round(precision,2))\n",
    "print(\"Recall is \",round(recall,2))"
   ]
  },
  {
   "cell_type": "markdown",
   "id": "ae569c3c",
   "metadata": {},
   "source": [
    "## Logistic regression model is correct 78.4% of the time, and is our best model"
   ]
  },
  {
   "cell_type": "markdown",
   "id": "16b24f86",
   "metadata": {},
   "source": [
    "Dataset from:\n",
    "https://www.kaggle.com/hj5992/restaurantreviews\n",
    "\n",
    "Reference:\n",
    "https://www.kaggle.com/apekshakom/sentiment-analysis-of-restaurant-reviews"
   ]
  },
  {
   "cell_type": "code",
   "execution_count": null,
   "id": "3491c466",
   "metadata": {},
   "outputs": [],
   "source": []
  }
 ],
 "metadata": {
  "kernelspec": {
   "display_name": "LighthouseLabs",
   "language": "python",
   "name": "lighthouselabs"
  },
  "language_info": {
   "codemirror_mode": {
    "name": "ipython",
    "version": 3
   },
   "file_extension": ".py",
   "mimetype": "text/x-python",
   "name": "python",
   "nbconvert_exporter": "python",
   "pygments_lexer": "ipython3",
   "version": "3.8.2"
  }
 },
 "nbformat": 4,
 "nbformat_minor": 5
}
